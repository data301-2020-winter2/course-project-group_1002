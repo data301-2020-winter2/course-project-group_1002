{
 "cells": [
  {
   "cell_type": "code",
   "execution_count": 6,
   "id": "athletic-kinase",
   "metadata": {},
   "outputs": [],
   "source": [
    "import pandas as pd "
   ]
  },
  {
   "cell_type": "code",
   "execution_count": 9,
   "id": "analyzed-allowance",
   "metadata": {},
   "outputs": [],
   "source": [
    "df1 = pd.read_csv(\"data.csv\")"
   ]
  },
  {
   "cell_type": "code",
   "execution_count": 10,
   "id": "suburban-government",
   "metadata": {},
   "outputs": [],
   "source": [
    "df2 = pd.read_csv(\"data_by_artist.csv\")"
   ]
  },
  {
   "cell_type": "code",
   "execution_count": 12,
   "id": "dutch-nation",
   "metadata": {},
   "outputs": [],
   "source": [
    "df3 = pd.read_csv(\"data_by_genres.csv\")"
   ]
  },
  {
   "cell_type": "code",
   "execution_count": 13,
   "id": "sonic-player",
   "metadata": {},
   "outputs": [],
   "source": [
    "df4 = pd.read_csv(\"data_by_year.csv\")"
   ]
  },
  {
   "cell_type": "code",
   "execution_count": 14,
   "id": "three-probability",
   "metadata": {},
   "outputs": [],
   "source": [
    "df5 = pd.read_csv(\"data_w_genres.csv\")"
   ]
  },
  {
   "cell_type": "code",
   "execution_count": null,
   "id": "ideal-easter",
   "metadata": {},
   "outputs": [],
   "source": []
  },
  {
   "cell_type": "code",
   "execution_count": null,
   "id": "ecological-broad",
   "metadata": {},
   "outputs": [],
   "source": []
  },
  {
   "cell_type": "code",
   "execution_count": null,
   "id": "accepted-merchandise",
   "metadata": {},
   "outputs": [],
   "source": []
  },
  {
   "cell_type": "code",
   "execution_count": null,
   "id": "moved-easter",
   "metadata": {},
   "outputs": [],
   "source": []
  }
 ],
 "metadata": {
  "kernelspec": {
   "display_name": "Python 3",
   "language": "python",
   "name": "python3"
  },
  "language_info": {
   "codemirror_mode": {
    "name": "ipython",
    "version": 3
   },
   "file_extension": ".py",
   "mimetype": "text/x-python",
   "name": "python",
   "nbconvert_exporter": "python",
   "pygments_lexer": "ipython3",
   "version": "3.8.5"
  }
 },
 "nbformat": 4,
 "nbformat_minor": 5
}
