{
 "cells": [
  {
   "cell_type": "code",
   "execution_count": 2,
   "id": "athletic-kinase",
   "metadata": {},
   "outputs": [],
   "source": [
    "import pandas as pd\n",
    "import numpy as np\n",
    "import altair as alt"
   ]
  },
  {
   "cell_type": "code",
   "execution_count": 15,
   "id": "analyzed-allowance",
   "metadata": {},
   "outputs": [],
   "source": [
    "data = pd.read_csv(\"data.csv\")"
   ]
  },
  {
   "cell_type": "code",
   "execution_count": 8,
   "id": "suburban-government",
   "metadata": {},
   "outputs": [],
   "source": [
    "artist = pd.read_csv(\"data_by_artist.csv\")"
   ]
  },
  {
   "cell_type": "code",
   "execution_count": 9,
   "id": "dutch-nation",
   "metadata": {},
   "outputs": [],
   "source": [
    "by_genres = pd.read_csv(\"data_by_genres.csv\")"
   ]
  },
  {
   "cell_type": "code",
   "execution_count": 63,
   "id": "sonic-player",
   "metadata": {},
   "outputs": [],
   "source": [
    "year = pd.read_csv(\"data_by_year.csv\")"
   ]
  },
  {
   "cell_type": "code",
   "execution_count": 64,
   "id": "three-probability",
   "metadata": {},
   "outputs": [],
   "source": [
    "w_genres = pd.read_csv(\"data_w_genres.csv\")"
   ]
  },
  {
   "cell_type": "code",
   "execution_count": 73,
   "id": "ideal-easter",
   "metadata": {
    "scrolled": true
   },
   "outputs": [],
   "source": [
    "#RQ1. I am interested in finding out whether there is any general trends between release year, energy, and danceability of the songs, and whether there is any visible correlation between the latter two characteristics."
   ]
  },
  {
   "cell_type": "code",
   "execution_count": 87,
   "id": "ecological-broad",
   "metadata": {},
   "outputs": [
    {
     "data": {
      "text/html": [
       "<div>\n",
       "<style scoped>\n",
       "    .dataframe tbody tr th:only-of-type {\n",
       "        vertical-align: middle;\n",
       "    }\n",
       "\n",
       "    .dataframe tbody tr th {\n",
       "        vertical-align: top;\n",
       "    }\n",
       "\n",
       "    .dataframe thead th {\n",
       "        text-align: right;\n",
       "    }\n",
       "</style>\n",
       "<table border=\"1\" class=\"dataframe\">\n",
       "  <thead>\n",
       "    <tr style=\"text-align: right;\">\n",
       "      <th></th>\n",
       "      <th>year</th>\n",
       "      <th>danceability</th>\n",
       "      <th>energy</th>\n",
       "    </tr>\n",
       "  </thead>\n",
       "  <tbody>\n",
       "    <tr>\n",
       "      <th>0</th>\n",
       "      <td>1920</td>\n",
       "      <td>0.515750</td>\n",
       "      <td>0.418700</td>\n",
       "    </tr>\n",
       "    <tr>\n",
       "      <th>1</th>\n",
       "      <td>1921</td>\n",
       "      <td>0.432171</td>\n",
       "      <td>0.241136</td>\n",
       "    </tr>\n",
       "    <tr>\n",
       "      <th>2</th>\n",
       "      <td>1922</td>\n",
       "      <td>0.575620</td>\n",
       "      <td>0.226173</td>\n",
       "    </tr>\n",
       "    <tr>\n",
       "      <th>3</th>\n",
       "      <td>1923</td>\n",
       "      <td>0.577341</td>\n",
       "      <td>0.262406</td>\n",
       "    </tr>\n",
       "    <tr>\n",
       "      <th>4</th>\n",
       "      <td>1924</td>\n",
       "      <td>0.549894</td>\n",
       "      <td>0.344347</td>\n",
       "    </tr>\n",
       "    <tr>\n",
       "      <th>...</th>\n",
       "      <td>...</td>\n",
       "      <td>...</td>\n",
       "      <td>...</td>\n",
       "    </tr>\n",
       "    <tr>\n",
       "      <th>97</th>\n",
       "      <td>2017</td>\n",
       "      <td>0.580475</td>\n",
       "      <td>0.686392</td>\n",
       "    </tr>\n",
       "    <tr>\n",
       "      <th>98</th>\n",
       "      <td>2018</td>\n",
       "      <td>0.602731</td>\n",
       "      <td>0.659552</td>\n",
       "    </tr>\n",
       "    <tr>\n",
       "      <th>99</th>\n",
       "      <td>2019</td>\n",
       "      <td>0.603101</td>\n",
       "      <td>0.629781</td>\n",
       "    </tr>\n",
       "    <tr>\n",
       "      <th>100</th>\n",
       "      <td>2020</td>\n",
       "      <td>0.605285</td>\n",
       "      <td>0.674247</td>\n",
       "    </tr>\n",
       "    <tr>\n",
       "      <th>101</th>\n",
       "      <td>2021</td>\n",
       "      <td>0.652488</td>\n",
       "      <td>0.578896</td>\n",
       "    </tr>\n",
       "  </tbody>\n",
       "</table>\n",
       "<p>102 rows × 3 columns</p>\n",
       "</div>"
      ],
      "text/plain": [
       "     year  danceability    energy\n",
       "0    1920      0.515750  0.418700\n",
       "1    1921      0.432171  0.241136\n",
       "2    1922      0.575620  0.226173\n",
       "3    1923      0.577341  0.262406\n",
       "4    1924      0.549894  0.344347\n",
       "..    ...           ...       ...\n",
       "97   2017      0.580475  0.686392\n",
       "98   2018      0.602731  0.659552\n",
       "99   2019      0.603101  0.629781\n",
       "100  2020      0.605285  0.674247\n",
       "101  2021      0.652488  0.578896\n",
       "\n",
       "[102 rows x 3 columns]"
      ]
     },
     "execution_count": 87,
     "metadata": {},
     "output_type": "execute_result"
    }
   ],
   "source": [
    "#here I organize the data table to include only the variables \"year\",\"danceability\", and \"speechiness\"\n",
    "dance = year.loc[:,[\"year\",\"danceability\",\"energy\"]]\n",
    "dance"
   ]
  },
  {
   "cell_type": "code",
   "execution_count": 54,
   "id": "harmful-shanghai",
   "metadata": {},
   "outputs": [
    {
     "data": {
      "text/html": [
       "\n",
       "<div id=\"altair-viz-89254594f6e8476d9801d7695cb85bfb\"></div>\n",
       "<script type=\"text/javascript\">\n",
       "  (function(spec, embedOpt){\n",
       "    let outputDiv = document.currentScript.previousElementSibling;\n",
       "    if (outputDiv.id !== \"altair-viz-89254594f6e8476d9801d7695cb85bfb\") {\n",
       "      outputDiv = document.getElementById(\"altair-viz-89254594f6e8476d9801d7695cb85bfb\");\n",
       "    }\n",
       "    const paths = {\n",
       "      \"vega\": \"https://cdn.jsdelivr.net/npm//vega@5?noext\",\n",
       "      \"vega-lib\": \"https://cdn.jsdelivr.net/npm//vega-lib?noext\",\n",
       "      \"vega-lite\": \"https://cdn.jsdelivr.net/npm//vega-lite@4.8.1?noext\",\n",
       "      \"vega-embed\": \"https://cdn.jsdelivr.net/npm//vega-embed@6?noext\",\n",
       "    };\n",
       "\n",
       "    function loadScript(lib) {\n",
       "      return new Promise(function(resolve, reject) {\n",
       "        var s = document.createElement('script');\n",
       "        s.src = paths[lib];\n",
       "        s.async = true;\n",
       "        s.onload = () => resolve(paths[lib]);\n",
       "        s.onerror = () => reject(`Error loading script: ${paths[lib]}`);\n",
       "        document.getElementsByTagName(\"head\")[0].appendChild(s);\n",
       "      });\n",
       "    }\n",
       "\n",
       "    function showError(err) {\n",
       "      outputDiv.innerHTML = `<div class=\"error\" style=\"color:red;\">${err}</div>`;\n",
       "      throw err;\n",
       "    }\n",
       "\n",
       "    function displayChart(vegaEmbed) {\n",
       "      vegaEmbed(outputDiv, spec, embedOpt)\n",
       "        .catch(err => showError(`Javascript Error: ${err.message}<br>This usually means there's a typo in your chart specification. See the javascript console for the full traceback.`));\n",
       "    }\n",
       "\n",
       "    if(typeof define === \"function\" && define.amd) {\n",
       "      requirejs.config({paths});\n",
       "      require([\"vega-embed\"], displayChart, err => showError(`Error loading script: ${err.message}`));\n",
       "    } else if (typeof vegaEmbed === \"function\") {\n",
       "      displayChart(vegaEmbed);\n",
       "    } else {\n",
       "      loadScript(\"vega\")\n",
       "        .then(() => loadScript(\"vega-lite\"))\n",
       "        .then(() => loadScript(\"vega-embed\"))\n",
       "        .catch(showError)\n",
       "        .then(() => displayChart(vegaEmbed));\n",
       "    }\n",
       "  })({\"config\": {\"view\": {\"continuousWidth\": 400, \"continuousHeight\": 300}}, \"data\": {\"name\": \"data-54ca2911087b2cfa8857053d3217af46\"}, \"mark\": \"bar\", \"encoding\": {\"x\": {\"type\": \"quantitative\", \"field\": \"year\"}, \"y\": {\"type\": \"quantitative\", \"field\": \"danceability\"}}, \"height\": 300, \"title\": \"danceability of songs based on release year\", \"width\": 600, \"$schema\": \"https://vega.github.io/schema/vega-lite/v4.8.1.json\", \"datasets\": {\"data-54ca2911087b2cfa8857053d3217af46\": [{\"year\": 1920, \"danceability\": 0.515750143266476, \"tempo\": 113.22689971346703}, {\"year\": 1921, \"danceability\": 0.432170512820513, \"tempo\": 102.4253974358974}, {\"year\": 1922, \"danceability\": 0.5756198347107437, \"tempo\": 100.0331487603306}, {\"year\": 1923, \"danceability\": 0.5773405405405401, \"tempo\": 114.01072972972972}, {\"year\": 1924, \"danceability\": 0.5498940677966102, \"tempo\": 120.68957203389824}, {\"year\": 1925, \"danceability\": 0.5748745519713262, \"tempo\": 115.47983154121864}, {\"year\": 1926, \"danceability\": 0.5969149736644092, \"tempo\": 109.57097215951842}, {\"year\": 1927, \"danceability\": 0.6559293333333329, \"tempo\": 112.66370666666654}, {\"year\": 1928, \"danceability\": 0.5349066666666661, \"tempo\": 106.74906196078446}, {\"year\": 1929, \"danceability\": 0.6478398527865401, \"tempo\": 110.92671083070452}, {\"year\": 1930, \"danceability\": 0.5197101802757159, \"tempo\": 109.9247884411452}, {\"year\": 1931, \"danceability\": 0.5948927685950423, \"tempo\": 108.97437809917368}, {\"year\": 1932, \"danceability\": 0.6022140664961636, \"tempo\": 110.47795268542204}, {\"year\": 1933, \"danceability\": 0.5700692307692304, \"tempo\": 112.59650427350424}, {\"year\": 1934, \"danceability\": 0.529168384879725, \"tempo\": 115.40552920962192}, {\"year\": 1935, \"danceability\": 0.554997053171045, \"tempo\": 110.72258744394634}, {\"year\": 1936, \"danceability\": 0.6233780500000001, \"tempo\": 108.39304699999988}, {\"year\": 1937, \"danceability\": 0.5426403933434191, \"tempo\": 115.1677428139182}, {\"year\": 1938, \"danceability\": 0.480510450160772, \"tempo\": 111.64432475884244}, {\"year\": 1939, \"danceability\": 0.5136558000000002, \"tempo\": 113.32418199999996}, {\"year\": 1940, \"danceability\": 0.5254509875259874, \"tempo\": 108.87211070686068}, {\"year\": 1941, \"danceability\": 0.4810745604963815, \"tempo\": 107.84667114788004}, {\"year\": 1942, \"danceability\": 0.4650137196924897, \"tempo\": 106.005413956239}, {\"year\": 1943, \"danceability\": 0.4550971988795515, \"tempo\": 106.17102801120453}, {\"year\": 1944, \"danceability\": 0.5025696498054477, \"tempo\": 105.92034241245136}, {\"year\": 1945, \"danceability\": 0.5178561500000012, \"tempo\": 108.25691699999986}, {\"year\": 1946, \"danceability\": 0.4151410817031067, \"tempo\": 103.12142577675488}, {\"year\": 1947, \"danceability\": 0.4721039099526071, \"tempo\": 108.97288329383876}, {\"year\": 1948, \"danceability\": 0.4627362500000003, \"tempo\": 107.68421149999982}, {\"year\": 1949, \"danceability\": 0.4440308999999995, \"tempo\": 108.87556349999996}, {\"year\": 1950, \"danceability\": 0.5290370500000003, \"tempo\": 110.50021199999986}, {\"year\": 1951, \"danceability\": 0.4614230999999998, \"tempo\": 109.56988249999984}, {\"year\": 1952, \"danceability\": 0.4560211999999999, \"tempo\": 108.2383544999999}, {\"year\": 1953, \"danceability\": 0.4408336999999999, \"tempo\": 110.00811300000004}, {\"year\": 1954, \"danceability\": 0.4603712499999994, \"tempo\": 108.56191249999992}, {\"year\": 1955, \"danceability\": 0.4863890999999999, \"tempo\": 110.58108099999998}, {\"year\": 1956, \"danceability\": 0.4892960500000006, \"tempo\": 111.88017150000016}, {\"year\": 1957, \"danceability\": 0.5036533999999999, \"tempo\": 112.52888549999987}, {\"year\": 1958, \"danceability\": 0.4781315499999994, \"tempo\": 112.51172399999992}, {\"year\": 1959, \"danceability\": 0.4797628500000004, \"tempo\": 111.38834}, {\"year\": 1960, \"danceability\": 0.4820517000000005, \"tempo\": 112.35459950000012}, {\"year\": 1961, \"danceability\": 0.4877147500000002, \"tempo\": 111.6490555}, {\"year\": 1962, \"danceability\": 0.4907443999999994, \"tempo\": 114.68595150000009}, {\"year\": 1963, \"danceability\": 0.4840931499999998, \"tempo\": 114.3029374999999}, {\"year\": 1964, \"danceability\": 0.5018954522738626, \"tempo\": 114.70529685157432}, {\"year\": 1965, \"danceability\": 0.500765584415584, \"tempo\": 116.6388116883119}, {\"year\": 1966, \"danceability\": 0.5047228058936569, \"tempo\": 117.07642216527876}, {\"year\": 1967, \"danceability\": 0.4891990014977533, \"tempo\": 116.0915986020968}, {\"year\": 1968, \"danceability\": 0.4973220740740734, \"tempo\": 115.8942227160493}, {\"year\": 1969, \"danceability\": 0.4861697720515355, \"tempo\": 117.01696729435088}, {\"year\": 1970, \"danceability\": 0.5052280614774418, \"tempo\": 117.37428210213184}, {\"year\": 1971, \"danceability\": 0.5019534320987652, \"tempo\": 118.16830765432066}, {\"year\": 1972, \"danceability\": 0.5211926514399199, \"tempo\": 119.34634160873875}, {\"year\": 1973, \"danceability\": 0.5127625374625377, \"tempo\": 120.04932717282728}, {\"year\": 1974, \"danceability\": 0.5183694100148734, \"tempo\": 118.99313336638552}, {\"year\": 1975, \"danceability\": 0.5226744186046516, \"tempo\": 118.8616704601684}, {\"year\": 1976, \"danceability\": 0.5285758964143422, \"tempo\": 120.29478137450212}, {\"year\": 1977, \"danceability\": 0.5335206896551744, \"tempo\": 121.64451224387822}, {\"year\": 1978, \"danceability\": 0.5389968703427725, \"tempo\": 120.20931942374574}, {\"year\": 1979, \"danceability\": 0.5635958000000006, \"tempo\": 122.17358300000016}, {\"year\": 1980, \"danceability\": 0.5543614215686279, \"tempo\": 122.67287058823544}, {\"year\": 1981, \"danceability\": 0.5424464767616194, \"tempo\": 123.04049275362328}, {\"year\": 1982, \"danceability\": 0.5600552841475578, \"tempo\": 120.89198853439667}, {\"year\": 1983, \"danceability\": 0.5447401397903143, \"tempo\": 120.84967898152772}, {\"year\": 1984, \"danceability\": 0.5310491754122934, \"tempo\": 121.1312243878062}, {\"year\": 1985, \"danceability\": 0.5550731439960154, \"tempo\": 121.22498505231712}, {\"year\": 1986, \"danceability\": 0.540183972125435, \"tempo\": 120.23899950223988}, {\"year\": 1987, \"danceability\": 0.5368667832167833, \"tempo\": 120.05755144855146}, {\"year\": 1988, \"danceability\": 0.538125611582627, \"tempo\": 119.93938242636048}, {\"year\": 1989, \"danceability\": 0.5447028971028955, \"tempo\": 120.35936463536478}, {\"year\": 1990, \"danceability\": 0.5335102589641431, \"tempo\": 120.02910507968156}, {\"year\": 1991, \"danceability\": 0.5555509193776516, \"tempo\": 119.7914743045732}, {\"year\": 1992, \"danceability\": 0.5551345617529867, \"tempo\": 122.68904282868516}, {\"year\": 1993, \"danceability\": 0.5697258192651433, \"tempo\": 120.42230933465726}, {\"year\": 1994, \"danceability\": 0.5497064883605771, \"tempo\": 117.95952055473002}, {\"year\": 1995, \"danceability\": 0.559848325837082, \"tempo\": 118.96503898050968}, {\"year\": 1996, \"danceability\": 0.5877860465116282, \"tempo\": 117.9722988619496}, {\"year\": 1997, \"danceability\": 0.5742233349778002, \"tempo\": 118.14932511100156}, {\"year\": 1998, \"danceability\": 0.5806880039331366, \"tempo\": 118.07008210422836}, {\"year\": 1999, \"danceability\": 0.5815058313253012, \"tempo\": 119.47584771084333}, {\"year\": 2000, \"danceability\": 0.5954513722126922, \"tempo\": 117.66819811320742}, {\"year\": 2001, \"danceability\": 0.5918076452599391, \"tempo\": 118.33890214067276}, {\"year\": 2002, \"danceability\": 0.5695844282238443, \"tempo\": 119.45307201946468}, {\"year\": 2003, \"danceability\": 0.5749298259493676, \"tempo\": 120.19126503164544}, {\"year\": 2004, \"danceability\": 0.5705564030131827, \"tempo\": 120.6073888888888}, {\"year\": 2005, \"danceability\": 0.5569814253222146, \"tempo\": 123.56404927975734}, {\"year\": 2006, \"danceability\": 0.5443527593818983, \"tempo\": 123.09366519499648}, {\"year\": 2007, \"danceability\": 0.5573230134932524, \"tempo\": 125.20327661169443}, {\"year\": 2008, \"danceability\": 0.5539464604402141, \"tempo\": 120.64437775133838}, {\"year\": 2009, \"danceability\": 0.5660006406149897, \"tempo\": 124.82945227418324}, {\"year\": 2010, \"danceability\": 0.5996195818459972, \"tempo\": 123.32715961244212}, {\"year\": 2011, \"danceability\": 0.5769396580253717, \"tempo\": 124.24133480419192}, {\"year\": 2012, \"danceability\": 0.5588412455334344, \"tempo\": 123.38061051556916}, {\"year\": 2013, \"danceability\": 0.5938806636155596, \"tempo\": 124.1597128146452}, {\"year\": 2014, \"danceability\": 0.586153063943162, \"tempo\": 124.62149689165186}, {\"year\": 2015, \"danceability\": 0.5604550000000001, \"tempo\": 120.87879260869578}, {\"year\": 2016, \"danceability\": 0.5815825457641538, \"tempo\": 123.81492933163048}, {\"year\": 2017, \"danceability\": 0.5804751855287571, \"tempo\": 121.829806586271}, {\"year\": 2018, \"danceability\": 0.6027309137803987, \"tempo\": 123.64428813559311}, {\"year\": 2019, \"danceability\": 0.6031014169171321, \"tempo\": 122.41970244740216}, {\"year\": 2020, \"danceability\": 0.6052853749417798, \"tempo\": 124.05830810433172}, {\"year\": 2021, \"danceability\": 0.6524883695652172, \"tempo\": 120.52587500000004}]}}, {\"mode\": \"vega-lite\"});\n",
       "</script>"
      ],
      "text/plain": [
       "alt.Chart(...)"
      ]
     },
     "execution_count": 54,
     "metadata": {},
     "output_type": "execute_result"
    }
   ],
   "source": [
    "#Here I generate a bar plot to show the danceability of songs based on released year. After intense increases and decreases during 1920-50, danceability of songs appears to increase at a steady pace from there on.\n",
    "dance.bar=alt.Chart(dance, width = 600, height = 300).mark_bar().encode(\n",
    "    x = 'year',\n",
    "    y = 'danceability').properties(title = \"danceability of songs based on release year\")\n",
    "dance.bar"
   ]
  },
  {
   "cell_type": "code",
   "execution_count": 97,
   "id": "moved-easter",
   "metadata": {},
   "outputs": [
    {
     "data": {
      "text/html": [
       "\n",
       "<div id=\"altair-viz-06da87d8c9cd475b8466a60f4e1a2775\"></div>\n",
       "<script type=\"text/javascript\">\n",
       "  (function(spec, embedOpt){\n",
       "    let outputDiv = document.currentScript.previousElementSibling;\n",
       "    if (outputDiv.id !== \"altair-viz-06da87d8c9cd475b8466a60f4e1a2775\") {\n",
       "      outputDiv = document.getElementById(\"altair-viz-06da87d8c9cd475b8466a60f4e1a2775\");\n",
       "    }\n",
       "    const paths = {\n",
       "      \"vega\": \"https://cdn.jsdelivr.net/npm//vega@5?noext\",\n",
       "      \"vega-lib\": \"https://cdn.jsdelivr.net/npm//vega-lib?noext\",\n",
       "      \"vega-lite\": \"https://cdn.jsdelivr.net/npm//vega-lite@4.8.1?noext\",\n",
       "      \"vega-embed\": \"https://cdn.jsdelivr.net/npm//vega-embed@6?noext\",\n",
       "    };\n",
       "\n",
       "    function loadScript(lib) {\n",
       "      return new Promise(function(resolve, reject) {\n",
       "        var s = document.createElement('script');\n",
       "        s.src = paths[lib];\n",
       "        s.async = true;\n",
       "        s.onload = () => resolve(paths[lib]);\n",
       "        s.onerror = () => reject(`Error loading script: ${paths[lib]}`);\n",
       "        document.getElementsByTagName(\"head\")[0].appendChild(s);\n",
       "      });\n",
       "    }\n",
       "\n",
       "    function showError(err) {\n",
       "      outputDiv.innerHTML = `<div class=\"error\" style=\"color:red;\">${err}</div>`;\n",
       "      throw err;\n",
       "    }\n",
       "\n",
       "    function displayChart(vegaEmbed) {\n",
       "      vegaEmbed(outputDiv, spec, embedOpt)\n",
       "        .catch(err => showError(`Javascript Error: ${err.message}<br>This usually means there's a typo in your chart specification. See the javascript console for the full traceback.`));\n",
       "    }\n",
       "\n",
       "    if(typeof define === \"function\" && define.amd) {\n",
       "      requirejs.config({paths});\n",
       "      require([\"vega-embed\"], displayChart, err => showError(`Error loading script: ${err.message}`));\n",
       "    } else if (typeof vegaEmbed === \"function\") {\n",
       "      displayChart(vegaEmbed);\n",
       "    } else {\n",
       "      loadScript(\"vega\")\n",
       "        .then(() => loadScript(\"vega-lite\"))\n",
       "        .then(() => loadScript(\"vega-embed\"))\n",
       "        .catch(showError)\n",
       "        .then(() => displayChart(vegaEmbed));\n",
       "    }\n",
       "  })({\"config\": {\"view\": {\"continuousWidth\": 400, \"continuousHeight\": 300}}, \"data\": {\"name\": \"data-95f7d809b1642f5abcab45c2d360770c\"}, \"mark\": \"bar\", \"encoding\": {\"x\": {\"type\": \"quantitative\", \"field\": \"year\"}, \"y\": {\"type\": \"quantitative\", \"field\": \"energy\"}}, \"height\": 300, \"title\": \"energy of songs based on release year\", \"width\": 600, \"$schema\": \"https://vega.github.io/schema/vega-lite/v4.8.1.json\", \"datasets\": {\"data-95f7d809b1642f5abcab45c2d360770c\": [{\"year\": 1920, \"danceability\": 0.515750143266476, \"energy\": 0.4186995702005729}, {\"year\": 1921, \"danceability\": 0.432170512820513, \"energy\": 0.2411363461538462}, {\"year\": 1922, \"danceability\": 0.5756198347107437, \"energy\": 0.2261726446280992}, {\"year\": 1923, \"danceability\": 0.5773405405405401, \"energy\": 0.2624064864864865}, {\"year\": 1924, \"danceability\": 0.5498940677966102, \"energy\": 0.3443466101694912}, {\"year\": 1925, \"danceability\": 0.5748745519713262, \"energy\": 0.2780860215053763}, {\"year\": 1926, \"danceability\": 0.5969149736644092, \"energy\": 0.2105064258841232}, {\"year\": 1927, \"danceability\": 0.6559293333333329, \"energy\": 0.2679021333333333}, {\"year\": 1928, \"danceability\": 0.5349066666666661, \"energy\": 0.2088558196078431}, {\"year\": 1929, \"danceability\": 0.6478398527865401, \"energy\": 0.2419077812828597}, {\"year\": 1930, \"danceability\": 0.5197101802757159, \"energy\": 0.334859840933192}, {\"year\": 1931, \"danceability\": 0.5948927685950423, \"energy\": 0.2347364493801654}, {\"year\": 1932, \"danceability\": 0.6022140664961636, \"energy\": 0.2783622762148339}, {\"year\": 1933, \"danceability\": 0.5700692307692304, \"energy\": 0.2867542735042735}, {\"year\": 1934, \"danceability\": 0.529168384879725, \"energy\": 0.2635702749140894}, {\"year\": 1935, \"danceability\": 0.554997053171045, \"energy\": 0.2466229147982062}, {\"year\": 1936, \"danceability\": 0.6233780500000001, \"energy\": 0.2640076749500002}, {\"year\": 1937, \"danceability\": 0.5426403933434191, \"energy\": 0.3105124508320724}, {\"year\": 1938, \"danceability\": 0.480510450160772, \"energy\": 0.2812483922829584}, {\"year\": 1939, \"danceability\": 0.5136558000000002, \"energy\": 0.2848278000000002}, {\"year\": 1940, \"danceability\": 0.5254509875259874, \"energy\": 0.3122784251559252}, {\"year\": 1941, \"danceability\": 0.4810745604963815, \"energy\": 0.2654865253360909}, {\"year\": 1942, \"danceability\": 0.4650137196924897, \"energy\": 0.2554481194559435}, {\"year\": 1943, \"danceability\": 0.4550971988795515, \"energy\": 0.2798906582633053}, {\"year\": 1944, \"danceability\": 0.5025696498054477, \"energy\": 0.2526620881971467}, {\"year\": 1945, \"danceability\": 0.5178561500000012, \"energy\": 0.2254125705}, {\"year\": 1946, \"danceability\": 0.4151410817031067, \"energy\": 0.222360736478711}, {\"year\": 1947, \"danceability\": 0.4721039099526071, \"energy\": 0.2629551777251186}, {\"year\": 1948, \"danceability\": 0.4627362500000003, \"energy\": 0.2414835490000002}, {\"year\": 1949, \"danceability\": 0.4440308999999995, \"energy\": 0.2472140149999996}, {\"year\": 1950, \"danceability\": 0.5290370500000003, \"energy\": 0.3035360500000004}, {\"year\": 1951, \"danceability\": 0.4614230999999998, \"energy\": 0.25727004}, {\"year\": 1952, \"danceability\": 0.4560211999999999, \"energy\": 0.2556151100000002}, {\"year\": 1953, \"danceability\": 0.4408336999999999, \"energy\": 0.2674182099999996}, {\"year\": 1954, \"danceability\": 0.4603712499999994, \"energy\": 0.2635610349999999}, {\"year\": 1955, \"danceability\": 0.4863890999999999, \"energy\": 0.2883765949999995}, {\"year\": 1956, \"danceability\": 0.4892960500000006, \"energy\": 0.3026952100000004}, {\"year\": 1957, \"danceability\": 0.5036533999999999, \"energy\": 0.2938097549999997}, {\"year\": 1958, \"danceability\": 0.4781315499999994, \"energy\": 0.3088676800000003}, {\"year\": 1959, \"danceability\": 0.4797628500000004, \"energy\": 0.3122101900000001}, {\"year\": 1960, \"danceability\": 0.4820517000000005, \"energy\": 0.3393798}, {\"year\": 1961, \"danceability\": 0.4877147500000002, \"energy\": 0.3360766739999992}, {\"year\": 1962, \"danceability\": 0.4907443999999994, \"energy\": 0.3660735799999996}, {\"year\": 1963, \"danceability\": 0.4840931499999998, \"energy\": 0.3734276849999997}, {\"year\": 1964, \"danceability\": 0.5018954522738626, \"energy\": 0.3968526386806599}, {\"year\": 1965, \"danceability\": 0.500765584415584, \"energy\": 0.4439932017982008}, {\"year\": 1966, \"danceability\": 0.5047228058936569, \"energy\": 0.4801731838565017}, {\"year\": 1967, \"danceability\": 0.4891990014977533, \"energy\": 0.4413662656015981}, {\"year\": 1968, \"danceability\": 0.4973220740740734, \"energy\": 0.4568873777777784}, {\"year\": 1969, \"danceability\": 0.4861697720515355, \"energy\": 0.4903788206144694}, {\"year\": 1970, \"danceability\": 0.5052280614774418, \"energy\": 0.4948168071393165}, {\"year\": 1971, \"danceability\": 0.5019534320987652, \"energy\": 0.4943090419753088}, {\"year\": 1972, \"danceability\": 0.5211926514399199, \"energy\": 0.5026282820258189}, {\"year\": 1973, \"danceability\": 0.5127625374625377, \"energy\": 0.5353908091908084}, {\"year\": 1974, \"danceability\": 0.5183694100148734, \"energy\": 0.5151857957362422}, {\"year\": 1975, \"danceability\": 0.5226744186046516, \"energy\": 0.5235905937654629}, {\"year\": 1976, \"danceability\": 0.5285758964143422, \"energy\": 0.5476755976095623}, {\"year\": 1977, \"danceability\": 0.5335206896551744, \"energy\": 0.5545842168915551}, {\"year\": 1978, \"danceability\": 0.5389968703427725, \"energy\": 0.5526574068554402}, {\"year\": 1979, \"danceability\": 0.5635958000000006, \"energy\": 0.5866963749999992}, {\"year\": 1980, \"danceability\": 0.5543614215686279, \"energy\": 0.5945241960784312}, {\"year\": 1981, \"danceability\": 0.5424464767616194, \"energy\": 0.5972255947026484}, {\"year\": 1982, \"danceability\": 0.5600552841475578, \"energy\": 0.5842664900299099}, {\"year\": 1983, \"danceability\": 0.5447401397903143, \"energy\": 0.5908433849226165}, {\"year\": 1984, \"danceability\": 0.5310491754122934, \"energy\": 0.5823149575212405}, {\"year\": 1985, \"danceability\": 0.5550731439960154, \"energy\": 0.5953022670652727}, {\"year\": 1986, \"danceability\": 0.540183972125435, \"energy\": 0.6110060228969632}, {\"year\": 1987, \"danceability\": 0.5368667832167833, \"energy\": 0.5615285014985016}, {\"year\": 1988, \"danceability\": 0.538125611582627, \"energy\": 0.5851814128806803}, {\"year\": 1989, \"danceability\": 0.5447028971028955, \"energy\": 0.5781520529470522}, {\"year\": 1990, \"danceability\": 0.5335102589641431, \"energy\": 0.5657791633466145}, {\"year\": 1991, \"danceability\": 0.5555509193776516, \"energy\": 0.5542013908533706}, {\"year\": 1992, \"danceability\": 0.5551345617529867, \"energy\": 0.5748604033864543}, {\"year\": 1993, \"danceability\": 0.5697258192651433, \"energy\": 0.5500387735849049}, {\"year\": 1994, \"danceability\": 0.5497064883605771, \"energy\": 0.5678848588410114}, {\"year\": 1995, \"danceability\": 0.559848325837082, \"energy\": 0.5678576361819088}, {\"year\": 1996, \"danceability\": 0.5877860465116282, \"energy\": 0.5798754329539842}, {\"year\": 1997, \"danceability\": 0.5742233349778002, \"energy\": 0.5967071189935861}, {\"year\": 1998, \"danceability\": 0.5806880039331366, \"energy\": 0.5992130235988209}, {\"year\": 1999, \"danceability\": 0.5815058313253012, \"energy\": 0.6280656756626509}, {\"year\": 2000, \"danceability\": 0.5954513722126922, \"energy\": 0.6204027770154363}, {\"year\": 2001, \"danceability\": 0.5918076452599391, \"energy\": 0.6432772069317024}, {\"year\": 2002, \"danceability\": 0.5695844282238443, \"energy\": 0.6301173294403897}, {\"year\": 2003, \"danceability\": 0.5749298259493676, \"energy\": 0.6500365743670894}, {\"year\": 2004, \"danceability\": 0.5705564030131827, \"energy\": 0.6722703389830512}, {\"year\": 2005, \"danceability\": 0.5569814253222146, \"energy\": 0.6621512767247911}, {\"year\": 2006, \"danceability\": 0.5443527593818983, \"energy\": 0.6571996247240621}, {\"year\": 2007, \"danceability\": 0.5573230134932524, \"energy\": 0.6903991829085471}, {\"year\": 2008, \"danceability\": 0.5539464604402141, \"energy\": 0.6718591401546687}, {\"year\": 2009, \"danceability\": 0.5660006406149897, \"energy\": 0.6942454260089688}, {\"year\": 2010, \"danceability\": 0.5996195818459972, \"energy\": 0.6573552575216735}, {\"year\": 2011, \"danceability\": 0.5769396580253717, \"energy\": 0.657764424710424}, {\"year\": 2012, \"danceability\": 0.5588412455334344, \"energy\": 0.6870636906584997}, {\"year\": 2013, \"danceability\": 0.5938806636155596, \"energy\": 0.6925949116323431}, {\"year\": 2014, \"danceability\": 0.586153063943162, \"energy\": 0.6647777188277075}, {\"year\": 2015, \"danceability\": 0.5604550000000001, \"energy\": 0.5912785065217381}, {\"year\": 2016, \"danceability\": 0.5815825457641538, \"energy\": 0.6565469756492115}, {\"year\": 2017, \"danceability\": 0.5804751855287571, \"energy\": 0.686391820083488}, {\"year\": 2018, \"danceability\": 0.6027309137803987, \"energy\": 0.6595520928518803}, {\"year\": 2019, \"danceability\": 0.6031014169171321, \"energy\": 0.6297811296693853}, {\"year\": 2020, \"danceability\": 0.6052853749417798, \"energy\": 0.6742474103400076}, {\"year\": 2021, \"danceability\": 0.6524883695652172, \"energy\": 0.5788958315217388}]}}, {\"mode\": \"vega-lite\"});\n",
       "</script>"
      ],
      "text/plain": [
       "alt.Chart(...)"
      ]
     },
     "execution_count": 97,
     "metadata": {},
     "output_type": "execute_result"
    }
   ],
   "source": [
    "#Here is a bar plot for the energy of songs based on release year data. The trends appear to be similar to danceability, where there is sharp changes between 1920-50, then steady increases.\n",
    "bar_2 = alt.Chart(dance, width = 600, height = 300).mark_bar().encode(\n",
    "    x = 'year',\n",
    "    y = 'energy').properties(title = \"energy of songs based on release year\")\n",
    "bar_2"
   ]
  },
  {
   "cell_type": "code",
   "execution_count": 98,
   "id": "occupied-energy",
   "metadata": {},
   "outputs": [
    {
     "data": {
      "text/html": [
       "\n",
       "<div id=\"altair-viz-32532dc525d44640876e955608a3aacb\"></div>\n",
       "<script type=\"text/javascript\">\n",
       "  (function(spec, embedOpt){\n",
       "    let outputDiv = document.currentScript.previousElementSibling;\n",
       "    if (outputDiv.id !== \"altair-viz-32532dc525d44640876e955608a3aacb\") {\n",
       "      outputDiv = document.getElementById(\"altair-viz-32532dc525d44640876e955608a3aacb\");\n",
       "    }\n",
       "    const paths = {\n",
       "      \"vega\": \"https://cdn.jsdelivr.net/npm//vega@5?noext\",\n",
       "      \"vega-lib\": \"https://cdn.jsdelivr.net/npm//vega-lib?noext\",\n",
       "      \"vega-lite\": \"https://cdn.jsdelivr.net/npm//vega-lite@4.8.1?noext\",\n",
       "      \"vega-embed\": \"https://cdn.jsdelivr.net/npm//vega-embed@6?noext\",\n",
       "    };\n",
       "\n",
       "    function loadScript(lib) {\n",
       "      return new Promise(function(resolve, reject) {\n",
       "        var s = document.createElement('script');\n",
       "        s.src = paths[lib];\n",
       "        s.async = true;\n",
       "        s.onload = () => resolve(paths[lib]);\n",
       "        s.onerror = () => reject(`Error loading script: ${paths[lib]}`);\n",
       "        document.getElementsByTagName(\"head\")[0].appendChild(s);\n",
       "      });\n",
       "    }\n",
       "\n",
       "    function showError(err) {\n",
       "      outputDiv.innerHTML = `<div class=\"error\" style=\"color:red;\">${err}</div>`;\n",
       "      throw err;\n",
       "    }\n",
       "\n",
       "    function displayChart(vegaEmbed) {\n",
       "      vegaEmbed(outputDiv, spec, embedOpt)\n",
       "        .catch(err => showError(`Javascript Error: ${err.message}<br>This usually means there's a typo in your chart specification. See the javascript console for the full traceback.`));\n",
       "    }\n",
       "\n",
       "    if(typeof define === \"function\" && define.amd) {\n",
       "      requirejs.config({paths});\n",
       "      require([\"vega-embed\"], displayChart, err => showError(`Error loading script: ${err.message}`));\n",
       "    } else if (typeof vegaEmbed === \"function\") {\n",
       "      displayChart(vegaEmbed);\n",
       "    } else {\n",
       "      loadScript(\"vega\")\n",
       "        .then(() => loadScript(\"vega-lite\"))\n",
       "        .then(() => loadScript(\"vega-embed\"))\n",
       "        .catch(showError)\n",
       "        .then(() => displayChart(vegaEmbed));\n",
       "    }\n",
       "  })({\"config\": {\"view\": {\"continuousWidth\": 400, \"continuousHeight\": 300}}, \"data\": {\"name\": \"data-95f7d809b1642f5abcab45c2d360770c\"}, \"mark\": \"circle\", \"encoding\": {\"x\": {\"type\": \"quantitative\", \"field\": \"danceability\", \"scale\": {\"zero\": false}}, \"y\": {\"type\": \"quantitative\", \"field\": \"energy\"}}, \"height\": 300, \"title\": \"correlation between danceability and energy of songs\", \"width\": 600, \"$schema\": \"https://vega.github.io/schema/vega-lite/v4.8.1.json\", \"datasets\": {\"data-95f7d809b1642f5abcab45c2d360770c\": [{\"year\": 1920, \"danceability\": 0.515750143266476, \"energy\": 0.4186995702005729}, {\"year\": 1921, \"danceability\": 0.432170512820513, \"energy\": 0.2411363461538462}, {\"year\": 1922, \"danceability\": 0.5756198347107437, \"energy\": 0.2261726446280992}, {\"year\": 1923, \"danceability\": 0.5773405405405401, \"energy\": 0.2624064864864865}, {\"year\": 1924, \"danceability\": 0.5498940677966102, \"energy\": 0.3443466101694912}, {\"year\": 1925, \"danceability\": 0.5748745519713262, \"energy\": 0.2780860215053763}, {\"year\": 1926, \"danceability\": 0.5969149736644092, \"energy\": 0.2105064258841232}, {\"year\": 1927, \"danceability\": 0.6559293333333329, \"energy\": 0.2679021333333333}, {\"year\": 1928, \"danceability\": 0.5349066666666661, \"energy\": 0.2088558196078431}, {\"year\": 1929, \"danceability\": 0.6478398527865401, \"energy\": 0.2419077812828597}, {\"year\": 1930, \"danceability\": 0.5197101802757159, \"energy\": 0.334859840933192}, {\"year\": 1931, \"danceability\": 0.5948927685950423, \"energy\": 0.2347364493801654}, {\"year\": 1932, \"danceability\": 0.6022140664961636, \"energy\": 0.2783622762148339}, {\"year\": 1933, \"danceability\": 0.5700692307692304, \"energy\": 0.2867542735042735}, {\"year\": 1934, \"danceability\": 0.529168384879725, \"energy\": 0.2635702749140894}, {\"year\": 1935, \"danceability\": 0.554997053171045, \"energy\": 0.2466229147982062}, {\"year\": 1936, \"danceability\": 0.6233780500000001, \"energy\": 0.2640076749500002}, {\"year\": 1937, \"danceability\": 0.5426403933434191, \"energy\": 0.3105124508320724}, {\"year\": 1938, \"danceability\": 0.480510450160772, \"energy\": 0.2812483922829584}, {\"year\": 1939, \"danceability\": 0.5136558000000002, \"energy\": 0.2848278000000002}, {\"year\": 1940, \"danceability\": 0.5254509875259874, \"energy\": 0.3122784251559252}, {\"year\": 1941, \"danceability\": 0.4810745604963815, \"energy\": 0.2654865253360909}, {\"year\": 1942, \"danceability\": 0.4650137196924897, \"energy\": 0.2554481194559435}, {\"year\": 1943, \"danceability\": 0.4550971988795515, \"energy\": 0.2798906582633053}, {\"year\": 1944, \"danceability\": 0.5025696498054477, \"energy\": 0.2526620881971467}, {\"year\": 1945, \"danceability\": 0.5178561500000012, \"energy\": 0.2254125705}, {\"year\": 1946, \"danceability\": 0.4151410817031067, \"energy\": 0.222360736478711}, {\"year\": 1947, \"danceability\": 0.4721039099526071, \"energy\": 0.2629551777251186}, {\"year\": 1948, \"danceability\": 0.4627362500000003, \"energy\": 0.2414835490000002}, {\"year\": 1949, \"danceability\": 0.4440308999999995, \"energy\": 0.2472140149999996}, {\"year\": 1950, \"danceability\": 0.5290370500000003, \"energy\": 0.3035360500000004}, {\"year\": 1951, \"danceability\": 0.4614230999999998, \"energy\": 0.25727004}, {\"year\": 1952, \"danceability\": 0.4560211999999999, \"energy\": 0.2556151100000002}, {\"year\": 1953, \"danceability\": 0.4408336999999999, \"energy\": 0.2674182099999996}, {\"year\": 1954, \"danceability\": 0.4603712499999994, \"energy\": 0.2635610349999999}, {\"year\": 1955, \"danceability\": 0.4863890999999999, \"energy\": 0.2883765949999995}, {\"year\": 1956, \"danceability\": 0.4892960500000006, \"energy\": 0.3026952100000004}, {\"year\": 1957, \"danceability\": 0.5036533999999999, \"energy\": 0.2938097549999997}, {\"year\": 1958, \"danceability\": 0.4781315499999994, \"energy\": 0.3088676800000003}, {\"year\": 1959, \"danceability\": 0.4797628500000004, \"energy\": 0.3122101900000001}, {\"year\": 1960, \"danceability\": 0.4820517000000005, \"energy\": 0.3393798}, {\"year\": 1961, \"danceability\": 0.4877147500000002, \"energy\": 0.3360766739999992}, {\"year\": 1962, \"danceability\": 0.4907443999999994, \"energy\": 0.3660735799999996}, {\"year\": 1963, \"danceability\": 0.4840931499999998, \"energy\": 0.3734276849999997}, {\"year\": 1964, \"danceability\": 0.5018954522738626, \"energy\": 0.3968526386806599}, {\"year\": 1965, \"danceability\": 0.500765584415584, \"energy\": 0.4439932017982008}, {\"year\": 1966, \"danceability\": 0.5047228058936569, \"energy\": 0.4801731838565017}, {\"year\": 1967, \"danceability\": 0.4891990014977533, \"energy\": 0.4413662656015981}, {\"year\": 1968, \"danceability\": 0.4973220740740734, \"energy\": 0.4568873777777784}, {\"year\": 1969, \"danceability\": 0.4861697720515355, \"energy\": 0.4903788206144694}, {\"year\": 1970, \"danceability\": 0.5052280614774418, \"energy\": 0.4948168071393165}, {\"year\": 1971, \"danceability\": 0.5019534320987652, \"energy\": 0.4943090419753088}, {\"year\": 1972, \"danceability\": 0.5211926514399199, \"energy\": 0.5026282820258189}, {\"year\": 1973, \"danceability\": 0.5127625374625377, \"energy\": 0.5353908091908084}, {\"year\": 1974, \"danceability\": 0.5183694100148734, \"energy\": 0.5151857957362422}, {\"year\": 1975, \"danceability\": 0.5226744186046516, \"energy\": 0.5235905937654629}, {\"year\": 1976, \"danceability\": 0.5285758964143422, \"energy\": 0.5476755976095623}, {\"year\": 1977, \"danceability\": 0.5335206896551744, \"energy\": 0.5545842168915551}, {\"year\": 1978, \"danceability\": 0.5389968703427725, \"energy\": 0.5526574068554402}, {\"year\": 1979, \"danceability\": 0.5635958000000006, \"energy\": 0.5866963749999992}, {\"year\": 1980, \"danceability\": 0.5543614215686279, \"energy\": 0.5945241960784312}, {\"year\": 1981, \"danceability\": 0.5424464767616194, \"energy\": 0.5972255947026484}, {\"year\": 1982, \"danceability\": 0.5600552841475578, \"energy\": 0.5842664900299099}, {\"year\": 1983, \"danceability\": 0.5447401397903143, \"energy\": 0.5908433849226165}, {\"year\": 1984, \"danceability\": 0.5310491754122934, \"energy\": 0.5823149575212405}, {\"year\": 1985, \"danceability\": 0.5550731439960154, \"energy\": 0.5953022670652727}, {\"year\": 1986, \"danceability\": 0.540183972125435, \"energy\": 0.6110060228969632}, {\"year\": 1987, \"danceability\": 0.5368667832167833, \"energy\": 0.5615285014985016}, {\"year\": 1988, \"danceability\": 0.538125611582627, \"energy\": 0.5851814128806803}, {\"year\": 1989, \"danceability\": 0.5447028971028955, \"energy\": 0.5781520529470522}, {\"year\": 1990, \"danceability\": 0.5335102589641431, \"energy\": 0.5657791633466145}, {\"year\": 1991, \"danceability\": 0.5555509193776516, \"energy\": 0.5542013908533706}, {\"year\": 1992, \"danceability\": 0.5551345617529867, \"energy\": 0.5748604033864543}, {\"year\": 1993, \"danceability\": 0.5697258192651433, \"energy\": 0.5500387735849049}, {\"year\": 1994, \"danceability\": 0.5497064883605771, \"energy\": 0.5678848588410114}, {\"year\": 1995, \"danceability\": 0.559848325837082, \"energy\": 0.5678576361819088}, {\"year\": 1996, \"danceability\": 0.5877860465116282, \"energy\": 0.5798754329539842}, {\"year\": 1997, \"danceability\": 0.5742233349778002, \"energy\": 0.5967071189935861}, {\"year\": 1998, \"danceability\": 0.5806880039331366, \"energy\": 0.5992130235988209}, {\"year\": 1999, \"danceability\": 0.5815058313253012, \"energy\": 0.6280656756626509}, {\"year\": 2000, \"danceability\": 0.5954513722126922, \"energy\": 0.6204027770154363}, {\"year\": 2001, \"danceability\": 0.5918076452599391, \"energy\": 0.6432772069317024}, {\"year\": 2002, \"danceability\": 0.5695844282238443, \"energy\": 0.6301173294403897}, {\"year\": 2003, \"danceability\": 0.5749298259493676, \"energy\": 0.6500365743670894}, {\"year\": 2004, \"danceability\": 0.5705564030131827, \"energy\": 0.6722703389830512}, {\"year\": 2005, \"danceability\": 0.5569814253222146, \"energy\": 0.6621512767247911}, {\"year\": 2006, \"danceability\": 0.5443527593818983, \"energy\": 0.6571996247240621}, {\"year\": 2007, \"danceability\": 0.5573230134932524, \"energy\": 0.6903991829085471}, {\"year\": 2008, \"danceability\": 0.5539464604402141, \"energy\": 0.6718591401546687}, {\"year\": 2009, \"danceability\": 0.5660006406149897, \"energy\": 0.6942454260089688}, {\"year\": 2010, \"danceability\": 0.5996195818459972, \"energy\": 0.6573552575216735}, {\"year\": 2011, \"danceability\": 0.5769396580253717, \"energy\": 0.657764424710424}, {\"year\": 2012, \"danceability\": 0.5588412455334344, \"energy\": 0.6870636906584997}, {\"year\": 2013, \"danceability\": 0.5938806636155596, \"energy\": 0.6925949116323431}, {\"year\": 2014, \"danceability\": 0.586153063943162, \"energy\": 0.6647777188277075}, {\"year\": 2015, \"danceability\": 0.5604550000000001, \"energy\": 0.5912785065217381}, {\"year\": 2016, \"danceability\": 0.5815825457641538, \"energy\": 0.6565469756492115}, {\"year\": 2017, \"danceability\": 0.5804751855287571, \"energy\": 0.686391820083488}, {\"year\": 2018, \"danceability\": 0.6027309137803987, \"energy\": 0.6595520928518803}, {\"year\": 2019, \"danceability\": 0.6031014169171321, \"energy\": 0.6297811296693853}, {\"year\": 2020, \"danceability\": 0.6052853749417798, \"energy\": 0.6742474103400076}, {\"year\": 2021, \"danceability\": 0.6524883695652172, \"energy\": 0.5788958315217388}]}}, {\"mode\": \"vega-lite\"});\n",
       "</script>"
      ],
      "text/plain": [
       "alt.Chart(...)"
      ]
     },
     "execution_count": 98,
     "metadata": {},
     "output_type": "execute_result"
    }
   ],
   "source": [
    "# This is a scatter plot of that plots danceability vs. energy. Based on the plot, while some songs seen to increase in energy as danceability increases, there are also many songs where their energy level is not affected by the increase in danceability. There is no visible trends to draw conclusions.\n",
    "scatter = alt.Chart(dance, width = 600, height = 300).mark_circle().encode(\n",
    "    alt.X('danceability',\n",
    "        scale=alt.Scale(zero=False)\n",
    "    ),\n",
    "    y = 'energy').properties(title = \"danceability vs. energy\")\n",
    "scatter"
   ]
  },
  {
   "cell_type": "code",
   "execution_count": null,
   "id": "particular-glasgow",
   "metadata": {},
   "outputs": [],
   "source": [
    "#Based on the plots above, it shows that both energy and danceability follows a similar trend over the last 100 years, where they experience rapid intervals of increase and decrease during 1920-50, then from there on steady increases are observed. Furthermore, There seems to be no visible correlation between danceability and energy levels of the songs. This makes sense in some aspects as dances also comes in different genres and they may not all be hyper and energetis."
   ]
  },
  {
   "cell_type": "code",
   "execution_count": null,
   "id": "north-pasta",
   "metadata": {},
   "outputs": [],
   "source": []
  },
  {
   "cell_type": "code",
   "execution_count": null,
   "id": "innovative-european",
   "metadata": {},
   "outputs": [],
   "source": []
  },
  {
   "cell_type": "code",
   "execution_count": null,
   "id": "removed-information",
   "metadata": {},
   "outputs": [],
   "source": []
  },
  {
   "cell_type": "code",
   "execution_count": null,
   "id": "warming-advertising",
   "metadata": {},
   "outputs": [],
   "source": [
    "\n"
   ]
  },
  {
   "cell_type": "code",
   "execution_count": 99,
   "id": "employed-showcase",
   "metadata": {},
   "outputs": [],
   "source": []
  },
  {
   "cell_type": "code",
   "execution_count": null,
   "id": "floral-ultimate",
   "metadata": {},
   "outputs": [],
   "source": []
  },
  {
   "cell_type": "code",
   "execution_count": null,
   "id": "dense-password",
   "metadata": {},
   "outputs": [],
   "source": []
  }
 ],
 "metadata": {
  "kernelspec": {
   "display_name": "Python 3",
   "language": "python",
   "name": "python3"
  },
  "language_info": {
   "codemirror_mode": {
    "name": "ipython",
    "version": 3
   },
   "file_extension": ".py",
   "mimetype": "text/x-python",
   "name": "python",
   "nbconvert_exporter": "python",
   "pygments_lexer": "ipython3",
   "version": "3.8.5"
  }
 },
 "nbformat": 4,
 "nbformat_minor": 5
}
