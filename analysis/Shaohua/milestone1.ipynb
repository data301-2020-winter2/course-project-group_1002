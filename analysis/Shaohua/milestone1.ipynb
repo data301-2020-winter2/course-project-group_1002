{
 "cells": [
  {
   "cell_type": "markdown",
   "metadata": {},
   "source": [
    "# Milestone 1"
   ]
  },
  {
   "cell_type": "markdown",
   "metadata": {},
   "source": [
    "## Import"
   ]
  },
  {
   "cell_type": "code",
   "execution_count": 3,
   "metadata": {},
   "outputs": [],
   "source": [
    "import pandas as pd\n",
    "import numpy as np"
   ]
  },
  {
   "cell_type": "markdown",
   "metadata": {},
   "source": [
    "## Read-in dataset"
   ]
  },
  {
   "cell_type": "code",
   "execution_count": 36,
   "metadata": {},
   "outputs": [],
   "source": [
    "data_name = (['data', 'data_w_genres', 'data_by_artist',\n",
    "             'data_by_genres', 'data_by_year'])\n",
    "for name in data_name: \n",
    "    name = pd.read_csv('data/' + name + '.csv')\n",
    "    \n",
    "    \n",
    "# Before DRY Principle:\n",
    "\n",
    "# data = pd.read_csv('data/data.csv')\n",
    "# data_w_genres = pd.read_csv('data/data_w_genres.csv')\n",
    "# data_by_artist = pd.read_csv('data/data_by_artist.csv')\n",
    "# data_by_genres = pd.read_csv('data/data_by_genres.csv')\n",
    "# data_by_year = pd.read_csv('data/data_by_year.csv')\n"
   ]
  },
  {
   "cell_type": "markdown",
   "metadata": {},
   "source": [
    "## Showing the data"
   ]
  },
  {
   "cell_type": "code",
   "execution_count": 39,
   "metadata": {},
   "outputs": [],
   "source": [
    "# data.head()\n",
    "# data_w_genres.head()\n",
    "# data_by_artist.head()\n",
    "# data_by_genres.head()\n",
    "# data_by_year.head()"
   ]
  },
  {
   "cell_type": "code",
   "execution_count": null,
   "metadata": {},
   "outputs": [],
   "source": []
  }
 ],
 "metadata": {
  "kernelspec": {
   "display_name": "Python 3",
   "language": "python",
   "name": "python3"
  },
  "language_info": {
   "codemirror_mode": {
    "name": "ipython",
    "version": 3
   },
   "file_extension": ".py",
   "mimetype": "text/x-python",
   "name": "python",
   "nbconvert_exporter": "python",
   "pygments_lexer": "ipython3",
   "version": "3.8.5"
  }
 },
 "nbformat": 4,
 "nbformat_minor": 4
}
