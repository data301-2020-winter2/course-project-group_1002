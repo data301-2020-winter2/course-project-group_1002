version https://git-lfs.github.com/spec/v1
oid sha256:5fd3f537485c20437c8986241aa460fdc5d71aecd5235644343e4216f33ccd09
size 179611
