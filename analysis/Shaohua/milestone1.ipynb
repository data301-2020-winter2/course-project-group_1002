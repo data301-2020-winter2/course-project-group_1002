version https://git-lfs.github.com/spec/v1
oid sha256:09255328de7f7f64924a4ebd36981da27a2fe6977bd86254001325ca21f3a96b
size 315823
