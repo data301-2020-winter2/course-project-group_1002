version https://git-lfs.github.com/spec/v1
oid sha256:224a5639b71aed296c337968dcc7ad1bb76d4d597a9bfc03f410e230da6552c6
size 179852
