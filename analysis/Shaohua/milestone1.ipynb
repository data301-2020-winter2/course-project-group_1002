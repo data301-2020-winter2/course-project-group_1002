version https://git-lfs.github.com/spec/v1
oid sha256:9b33be39a243afffe37e62aeebfdc12844b57922cc642ea62145318061cd4f81
size 317276
