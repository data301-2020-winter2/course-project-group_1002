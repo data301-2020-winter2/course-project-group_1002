version https://git-lfs.github.com/spec/v1
oid sha256:4a031ab14fe9e2c226ed2caa9d60350b6c11314d9cbd0d0a8b30e59e0215b06e
size 194812
