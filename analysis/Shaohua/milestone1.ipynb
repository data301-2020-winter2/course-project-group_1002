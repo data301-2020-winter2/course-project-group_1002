version https://git-lfs.github.com/spec/v1
oid sha256:5d447cd39454b27a360d3c97b9f4b98ef660af2f3b8eea154fd3a2811393e435
size 179736
