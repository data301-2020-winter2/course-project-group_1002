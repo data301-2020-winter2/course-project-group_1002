{
 "cells": [
  {
   "cell_type": "markdown",
   "metadata": {},
   "source": [
    "# Task 1: Introduction to Markdown"
   ]
  },
  {
   "cell_type": "markdown",
   "metadata": {},
   "source": [
    "## Trying out Latex and other commands\n",
    "\n"
   ]
  },
  {
   "cell_type": "markdown",
   "metadata": {},
   "source": [
    "**Question 7.8.  Show that there exists no rational number $x$ such that $x^2 = 5$.**   *Hint: Use the fact from Ex 7.7.*\n",
    "\n",
    "\n",
    "**Fact from Ex 7.7.** If $m$ is an integer such that $m^2$ is divisible by $5$, then $m$ must be divisible by $5$\n",
    "\n",
    "\n",
    "\n",
    "\n",
    "**Proof.** We argue by contradiction.\n",
    "\n",
    "Suppose to the contrary that there exists $x \\in \\mathbb{Q}$ such that $x^2 =5$, that is, \n",
    "\n",
    "\n",
    "$ x = \\frac{m}{n}$  where $m\\in \\mathbb{Z}$ and $n\\in \\mathbb{Z} \\setminus \\{0\\}$ \n",
    "\n",
    "\n",
    "and where we assume that the fraction is in lowest terms (all common factors\n",
    "except for $\\pm 1$ are cancelled out).  Then $5=x^2=m^2/n^2$ and so\n",
    "\n",
    "\n",
    "$5n^2=m^2$\n",
    "\n",
    "\n",
    "This means that $m^2$ is divisible by 5.  By the **Fact from Ex 7.7.**, $m$ must be divisible by $5$.  So, we can write $m = 5k$ where $k$ is an integer.\n",
    "\n",
    "But then the equality  $5n^2=m^2$ turns into $5n^2=(5k)^2=25k^2=5(5k^2)$.  So, we have $n^2=5k^2$ and thus $n^2$ is divisible by 5.  Again, by the **Fact from Ex 7.7.**, we deduce that $n$ must be divisible by $5$. We then write $n = 5l$, for some integer $l$.\n",
    "\n",
    "However, this leads to a contradiction since $m$ and $n$ now have a common factor which is 5.\n",
    "\n",
    "Hence, there exists no rational number $x$ such that $x^2 = 5$. $\\blacksquare$"
   ]
  },
  {
   "cell_type": "code",
   "execution_count": null,
   "metadata": {},
   "outputs": [],
   "source": []
  }
 ],
 "metadata": {
  "kernelspec": {
   "display_name": "Python 3",
   "language": "python",
   "name": "python3"
  },
  "language_info": {
   "codemirror_mode": {
    "name": "ipython",
    "version": 3
   },
   "file_extension": ".py",
   "mimetype": "text/x-python",
   "name": "python",
   "nbconvert_exporter": "python",
   "pygments_lexer": "ipython3",
   "version": "3.8.5"
  }
 },
 "nbformat": 4,
 "nbformat_minor": 4
}
